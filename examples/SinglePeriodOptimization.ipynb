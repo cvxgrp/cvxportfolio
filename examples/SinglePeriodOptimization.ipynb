{
 "cells": [
  {
   "cell_type": "code",
   "execution_count": null,
   "metadata": {},
   "outputs": [],
   "source": [
    "import os\n",
    "import sys\n",
    "sys.path.insert(0, os.path.abspath('..'))"
   ]
  },
  {
   "cell_type": "code",
   "execution_count": null,
   "metadata": {},
   "outputs": [],
   "source": [
    "%load_ext autoreload\n",
    "%autoreload 2\n",
    "%matplotlib inline\n",
    "\n",
    "import pandas as pd\n",
    "import numpy as np\n",
    "import matplotlib.pyplot as plt\n",
    "import cvxportfolio as cp\n",
    "\n",
    "plotdir='../../portfolio/plots/'\n",
    "datadir='../data/' \n",
    "\n",
    "sigmas=pd.read_csv(datadir+'sigmas.csv.gz',index_col=0,parse_dates=[0]).iloc[:,:-1]\n",
    "returns=pd.read_csv(datadir+'returns.csv.gz',index_col=0,parse_dates=[0])\n",
    "volumes=pd.read_csv(datadir+'volumes.csv.gz',index_col=0,parse_dates=[0]).iloc[:,:-1]\n",
    "\n",
    "w_b = pd.Series(index=returns.columns, data=1)\n",
    "w_b.USDOLLAR = 0.\n",
    "w_b/=sum(w_b)\n",
    "\n",
    "start_t=\"2012-01-01\"\n",
    "end_t=\"2016-12-31\"\n",
    "\n",
    "simulated_tcost = cp.TcostModel(half_spread=0.0005/2., nonlin_coeff=1., sigma=sigmas, volume=volumes)\n",
    "simulated_hcost = cp.HcostModel(borrow_costs=0.0001)\n",
    "simulator = cp.MarketSimulator(returns, costs=[simulated_tcost, simulated_hcost],\n",
    "                               market_volumes=volumes, cash_key='USDOLLAR')\n",
    "\n",
    "return_estimate=pd.read_csv(datadir+'return_estimate.csv.gz',index_col=0,parse_dates=[0]).dropna()\n",
    "volume_estimate=pd.read_csv(datadir+'volume_estimate.csv.gz',index_col=0,parse_dates=[0]).dropna()\n",
    "sigma_estimate=pd.read_csv(datadir+'sigma_estimate.csv.gz',index_col=0,parse_dates=[0]).dropna()\n",
    "\n",
    "optimization_tcost = cp.TcostModel(half_spread=0.0005/2., nonlin_coeff=1., \n",
    "                                sigma=sigma_estimate, volume=volume_estimate)\n",
    "optimization_hcost=cp.HcostModel(borrow_costs=0.0001)\n",
    "\n",
    "risk_data = pd.HDFStore(datadir+'risk_model.h5')\n",
    "risk_model = cp.FactorModelSigma(risk_data.exposures, risk_data.factor_sigma, risk_data.idyos)\n",
    "\n",
    "results={}"
   ]
  },
  {
   "cell_type": "markdown",
   "metadata": {},
   "source": [
    "# SPO coarse search"
   ]
  },
  {
   "cell_type": "code",
   "execution_count": null,
   "metadata": {
    "scrolled": true
   },
   "outputs": [],
   "source": [
    "policies={}\n",
    "gamma_risks_coarse=[.1,.3,1,3,10,30,100,300,1000]\n",
    "gamma_tcosts_coarse=[1,2,5,10,20]\n",
    "for gamma_risk in gamma_risks_coarse:\n",
    "    for gamma_tcost in gamma_tcosts_coarse : \n",
    "        policies[(gamma_risk, gamma_tcost)] = \\\n",
    "      cp.SinglePeriodOpt(return_estimate, [gamma_risk*risk_model,gamma_tcost*optimization_tcost,optimization_hcost], \n",
    "                                [cp.LeverageLimit(3)])\n",
    "\n",
    "import warnings\n",
    "warnings.filterwarnings('ignore')\n",
    "results.update(dict(zip(policies.keys(), simulator.run_multiple_backtest(1E8*w_b, start_time=start_t,end_time=end_t,\n",
    "                                              policies=policies.values(), parallel=True))))"
   ]
  },
  {
   "cell_type": "code",
   "execution_count": null,
   "metadata": {},
   "outputs": [],
   "source": [
    "result_df_coarse=pd.DataFrame()\n",
    "for k in results:\n",
    "    if k[0] in gamma_risks_coarse and k[1] in gamma_tcosts_coarse:\n",
    "        result_df_coarse.loc[k[0], k[1]] = results[k]\n",
    "        \n",
    "result_df = result_df_coarse.loc[sorted(result_df_coarse.index), sorted(result_df_coarse.columns)]"
   ]
  },
  {
   "cell_type": "code",
   "execution_count": null,
   "metadata": {},
   "outputs": [],
   "source": [
    "plt.figure(figsize=(8,5))\n",
    "for gamma_tcost in result_df.columns:\n",
    "    x=[el.excess_returns.std()*100*np.sqrt(250) for el in result_df[gamma_tcost]]\n",
    "    y=[el.excess_returns.mean()*100*250 for el in result_df[gamma_tcost]]\n",
    "    plt.plot(np.array(x),np.array(y), '.-', label='$\\gamma^\\mathrm{trade} = %g$'%gamma_tcost)\n",
    "plt.legend(loc='lower right')\n",
    "plt.xlabel('Risk')\n",
    "plt.ylabel('Return')\n",
    "plt.xlim([0,20])\n",
    "plt.ylim([0,30])\n",
    "\n",
    "\n",
    "import matplotlib.ticker as mtick\n",
    "ax = plt.gca()\n",
    "ax.xaxis.set_major_formatter(mtick.FormatStrFormatter('%.0f%%'))\n",
    "ax.yaxis.set_major_formatter(mtick.FormatStrFormatter('%.0f%%'))\n",
    "\n",
    "plt.savefig(plotdir+'spo_riskrewardfrontier.png')"
   ]
  },
  {
   "cell_type": "markdown",
   "metadata": {},
   "source": [
    "# SPO fine Search "
   ]
  },
  {
   "cell_type": "code",
   "execution_count": null,
   "metadata": {
    "scrolled": true
   },
   "outputs": [],
   "source": [
    "policies={}\n",
    "gamma_risks_fine=gamma_risks_coarse\n",
    "gamma_tcosts_fine=[4,5,6,7,8]\n",
    "for gamma_risk in gamma_risks_fine:\n",
    "    for gamma_tcost in gamma_tcosts_fine : \n",
    "        policies[(gamma_risk, gamma_tcost)] = \\\n",
    "      cp.SinglePeriodOpt(return_estimate, [gamma_risk*risk_model,gamma_tcost*optimization_tcost,optimization_hcost], \n",
    "                                [cp.LeverageLimit(3)])\n",
    "\n",
    "import warnings\n",
    "warnings.filterwarnings('ignore')\n",
    "results.update(dict(zip(policies.keys(), simulator.run_multiple_backtest(1E8*w_b, start_time=start_t,end_time=end_t,\n",
    "                                              policies=policies.values(), parallel=True))))"
   ]
  },
  {
   "cell_type": "code",
   "execution_count": null,
   "metadata": {},
   "outputs": [],
   "source": [
    "result_df_fine=pd.DataFrame()\n",
    "for k in results:\n",
    "    if k[0] in gamma_risks_fine and k[1] in list(gamma_tcosts_fine):\n",
    "        result_df_fine.loc[k[0], k[1]] = results[k]\n",
    "        \n",
    "result_df_fine=result_df_fine.loc[sorted(result_df_fine.index),sorted(result_df_fine.columns)]"
   ]
  },
  {
   "cell_type": "code",
   "execution_count": null,
   "metadata": {},
   "outputs": [],
   "source": [
    "plt.figure(figsize=(8,5))\n",
    "for gamma_tcost in result_df_fine.columns[:]:\n",
    "    x=[el.excess_returns.std()*100*np.sqrt(250) for el in result_df_fine[gamma_tcost]]\n",
    "    y=[el.excess_returns.mean()*100*250 for el in result_df_fine[gamma_tcost]]\n",
    "    plt.plot(np.array(x),np.array(y), '.-', label='$\\gamma^\\mathrm{trade} = %g$'%gamma_tcost)\n",
    "plt.legend(loc='lower right')\n",
    "plt.xlabel('Risk')\n",
    "plt.ylabel('Return')\n",
    "plt.xlim([0,20])\n",
    "plt.ylim([0,30])\n",
    "\n",
    "\n",
    "import matplotlib.ticker as mtick\n",
    "ax = plt.gca()\n",
    "ax.xaxis.set_major_formatter(mtick.FormatStrFormatter('%.0f%%'))\n",
    "ax.yaxis.set_major_formatter(mtick.FormatStrFormatter('%.0f%%'))\n",
    "\n",
    "plt.savefig(plotdir+'spo_riskrewardfrontier_fine.png')"
   ]
  },
  {
   "cell_type": "markdown",
   "metadata": {},
   "source": [
    "# SPO Pareto search "
   ]
  },
  {
   "cell_type": "code",
   "execution_count": null,
   "metadata": {},
   "outputs": [],
   "source": [
    "results_pareto={}"
   ]
  },
  {
   "cell_type": "code",
   "execution_count": null,
   "metadata": {},
   "outputs": [],
   "source": [
    "policies={}\n",
    "#gamma_risks_pareto=[int(round(el)) if el>1 else el for el in np.logspace(-1,3,17)]\n",
    "gamma_risks_pareto=[0.1, 0.17782, 0.31624, 0.562, 1.0, 2, 3, 6, 10, 18, 32, 56, 100, 178, 316, 562, 1000]\n",
    "gamma_tcosts_pareto=[5.5,6,6.5,7,7.5,8]\n",
    "gamma_holdings=[.1,1.,10.,100.,1000.]\n",
    "for gamma_risk in gamma_risks_pareto:\n",
    "    for gamma_tcost in gamma_tcosts_pareto : \n",
    "        for gamma_holding in gamma_holdings:\n",
    "            policies[(gamma_risk, gamma_tcost, gamma_holding)] = \\\n",
    "          cp.SinglePeriodOpt(return_estimate, [gamma_risk*risk_model,gamma_tcost*optimization_tcost,\\\n",
    "                                       gamma_holding*optimization_hcost], \n",
    "                                [cp.LeverageLimit(3)])\n",
    "\n",
    "import warnings\n",
    "warnings.filterwarnings('ignore')\n",
    "results_pareto.update(dict(zip(policies.keys(), simulator.run_multiple_backtest(1E8*w_b, start_time=start_t,end_time=end_t,\n",
    "                                              policies=policies.values(), parallel=True))))"
   ]
  },
  {
   "cell_type": "code",
   "execution_count": null,
   "metadata": {},
   "outputs": [],
   "source": [
    "table=pd.DataFrame()\n",
    "table[r'$\\gamma^\\mathrm{risk}$']=[el[0] for el in results_pareto.keys()]\n",
    "table[r'$\\gamma^\\mathrm{trade}$']=[el[1] for el in results_pareto.keys()]\n",
    "table[r'$\\gamma^\\mathrm{hold}$']=['%g'%el[2] for el in results_pareto.keys()]\n",
    "table['Return']=[(results_pareto[k].excess_returns.mean()*100*250) for k in results_pareto.keys()]\n",
    "table['Risk']=[(results_pareto[k].excess_returns.std()*100*np.sqrt(250)) for k in results_pareto.keys()]\n",
    "table = table.sort_values('Risk', ascending=False).reset_index()\n",
    "del table['index']\n",
    "is_pareto = lambda i: table.loc[i,'Return']>=max(table.ix[i:].Return)\n",
    "table['is_pareto'] = [is_pareto(i) for i in range(len(table))]\n",
    "table.to_csv(datadir+'spo_pareto_results.csv', float_format='%g')"
   ]
  },
  {
   "cell_type": "code",
   "execution_count": null,
   "metadata": {},
   "outputs": [],
   "source": [
    "plt.figure(figsize=(8,5))\n",
    "plt.scatter(table.Risk.values,table.Return.values)\n",
    "plt.plot(table[table.is_pareto].Risk,table[table.is_pareto].Return, 'C1.-', label='Pareto optimal frontier')\n",
    "plt.legend( loc='lower right')\n",
    "plt.xlabel('Risk')\n",
    "plt.ylabel('Return')\n",
    "plt.xlim([0,20])\n",
    "plt.ylim([0,30])\n",
    "\n",
    "import matplotlib.ticker as mtick\n",
    "ax = plt.gca()\n",
    "ax.xaxis.set_major_formatter(mtick.FormatStrFormatter('%.0f%%'))\n",
    "ax.yaxis.set_major_formatter(mtick.FormatStrFormatter('%.0f%%'))\n",
    "\n",
    "plt.savefig(plotdir+'spo_pareto.png')"
   ]
  },
  {
   "cell_type": "code",
   "execution_count": null,
   "metadata": {},
   "outputs": [],
   "source": [
    "xlim=20\n",
    "ylim=30\n",
    "table=table[table.is_pareto]\n",
    "table=table[table.Risk <= xlim]\n",
    "table=table[table.Return <= ylim]\n",
    "del table['is_pareto']\n",
    "table.Risk=table.Risk.apply(lambda x: '%.2f%%'%x)\n",
    "table.Return=table.Return.apply(lambda x: '%.2f%%'%x)\n",
    "print(table.iloc[::-1].to_latex(float_format='%.2f', escape=False, index=False).replace('%',r'\\%'))"
   ]
  }
 ],
 "metadata": {
  "anaconda-cloud": {},
  "kernelspec": {
   "display_name": "Python 3",
   "language": "python",
   "name": "python3"
  },
  "language_info": {
   "codemirror_mode": {
    "name": "ipython",
    "version": 3
   },
   "file_extension": ".py",
   "mimetype": "text/x-python",
   "name": "python",
   "nbconvert_exporter": "python",
   "pygments_lexer": "ipython3",
   "version": "3.6.4"
  }
 },
 "nbformat": 4,
 "nbformat_minor": 2
}
